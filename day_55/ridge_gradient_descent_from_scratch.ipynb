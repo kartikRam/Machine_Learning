{
 "cells": [
  {
   "cell_type": "code",
   "execution_count": 5,
   "metadata": {},
   "outputs": [],
   "source": [
    "from sklearn.datasets import load_diabetes\n",
    "from sklearn.metrics import r2_score\n",
    "from sklearn.linear_model import SGDRegressor\n",
    "from sklearn.model_selection import train_test_split\n",
    "import numpy as np\n"
   ]
  },
  {
   "cell_type": "code",
   "execution_count": 6,
   "metadata": {},
   "outputs": [],
   "source": [
    "X,y = load_diabetes(return_X_y=True)"
   ]
  },
  {
   "cell_type": "code",
   "execution_count": 7,
   "metadata": {},
   "outputs": [],
   "source": [
    "X_train,X_test,y_train,y_test = train_test_split(X,y,test_size=0.2)"
   ]
  },
  {
   "cell_type": "code",
   "execution_count": 8,
   "metadata": {},
   "outputs": [],
   "source": [
    "sgd = SGDRegressor(penalty='l2',alpha=0.001,learning_rate='constant',max_iter=500,eta0=0.1)"
   ]
  },
  {
   "cell_type": "code",
   "execution_count": 12,
   "metadata": {},
   "outputs": [
    {
     "name": "stdout",
     "output_type": "stream",
     "text": [
      "R2 Score:  0.47222591171323314\n",
      "Coefficient:  [  28.4529482  -132.93751105  374.4316583   234.07809268    8.22086733\n",
      "  -46.17653854 -176.69652205  121.45867436  342.50448974   86.06832759]\n",
      "Intercept:  [147.6767837]\n"
     ]
    }
   ],
   "source": [
    "sgd.fit(X_train,y_train)\n",
    "y_pred = sgd.predict(X_test)\n",
    "r2=r2_score(y_test,y_pred)\n",
    "print(\"R2 Score: \",r2)\n",
    "print(\"Coefficient: \",sgd.coef_)\n",
    "print(\"Intercept: \",sgd.intercept_)"
   ]
  },
  {
   "cell_type": "code",
   "execution_count": 14,
   "metadata": {},
   "outputs": [
    {
     "name": "stdout",
     "output_type": "stream",
     "text": [
      "R2 Score:  0.4933079062410908\n",
      "Coefficient:  [   4.90149677 -240.31907728  495.17454997  301.9197508  -248.10134257\n",
      "  107.4405596  -150.48749264   72.94522772  611.46855597    9.85261165]\n",
      "Intercept:  152.81569051326588\n"
     ]
    }
   ],
   "source": [
    "from sklearn.linear_model import Ridge\n",
    "\n",
    "rdg = Ridge(alpha=0.01, max_iter=500, solver='sparse_cg')\n",
    "rdg.fit(X_train,y_train)\n",
    "y_pred = rdg.predict(X_test)\n",
    "r2_ridge=r2_score(y_test,y_pred)\n",
    "print(\"R2 Score: \",r2_ridge)\n",
    "print(\"Coefficient: \",rdg.coef_)\n",
    "print(\"Intercept: \",rdg.intercept_)"
   ]
  },
  {
   "cell_type": "code",
   "execution_count": 24,
   "metadata": {},
   "outputs": [],
   "source": [
    "class MeraRidgeRegressorwithGradientDescent:\n",
    "    \n",
    "    def __init__(self,learning_rate,epochs,alpha):\n",
    "        self.lr = learning_rate\n",
    "        self.epoch = epochs\n",
    "        self.alpha = alpha\n",
    "        self.intercept = None\n",
    "        self.coeff = None\n",
    "    \n",
    "    def train(self,X_train,y_train):\n",
    "        \n",
    "        self.coeff = np.ones(X_train.shape[1])\n",
    "        self.intercept = 0\n",
    "        theta = np.insert(self.coeff,0,self.intercept)\n",
    "        \n",
    "        X_train = np.insert(X_train,0,1,axis=1)\n",
    "        \n",
    "        for i in range(self.epoch):\n",
    "            theta_der = np.dot(X_train.T,X_train).dot(theta) - np.dot(X_train.T,y_train) + self.alpha * theta\n",
    "            theta = theta - self.lr * theta_der\n",
    "        self.coeff=theta[1:]\n",
    "        self.intercept = theta[0]\n",
    "    \n",
    "    def predict(self,X_test):\n",
    "        return np.dot( X_test,self.coeff) + self.intercept"
   ]
  },
  {
   "cell_type": "code",
   "execution_count": 25,
   "metadata": {},
   "outputs": [
    {
     "ename": "ValueError",
     "evalue": "shapes (10,) and (89,10) not aligned: 10 (dim 0) != 89 (dim 0)",
     "output_type": "error",
     "traceback": [
      "\u001b[1;31m---------------------------------------------------------------------------\u001b[0m",
      "\u001b[1;31mValueError\u001b[0m                                Traceback (most recent call last)",
      "Cell \u001b[1;32mIn[25], line 4\u001b[0m\n\u001b[0;32m      1\u001b[0m rgdGradient \u001b[38;5;241m=\u001b[39m MeraRidgeRegressorwithGradientDescent(learning_rate\u001b[38;5;241m=\u001b[39m\u001b[38;5;241m0.005\u001b[39m,epochs\u001b[38;5;241m=\u001b[39m\u001b[38;5;241m500\u001b[39m,alpha\u001b[38;5;241m=\u001b[39m\u001b[38;5;241m0.001\u001b[39m)\n\u001b[0;32m      2\u001b[0m rgdGradient\u001b[38;5;241m.\u001b[39mtrain(X_train,y_train)\n\u001b[1;32m----> 4\u001b[0m r2_ridgeGradient \u001b[38;5;241m=\u001b[39m r2_score(y_test,\u001b[43mrgdGradient\u001b[49m\u001b[38;5;241;43m.\u001b[39;49m\u001b[43mpredict\u001b[49m\u001b[43m(\u001b[49m\u001b[43mX_test\u001b[49m\u001b[43m)\u001b[49m)\n\u001b[0;32m      5\u001b[0m \u001b[38;5;28mprint\u001b[39m(\u001b[38;5;124m\"\u001b[39m\u001b[38;5;124mR2 Score: \u001b[39m\u001b[38;5;124m\"\u001b[39m,r2_ridgeGradient)\n\u001b[0;32m      6\u001b[0m \u001b[38;5;28mprint\u001b[39m(\u001b[38;5;124m\"\u001b[39m\u001b[38;5;124mCoefficient: \u001b[39m\u001b[38;5;124m\"\u001b[39m,rgdGradient\u001b[38;5;241m.\u001b[39mcoeff)\n",
      "Cell \u001b[1;32mIn[24], line 25\u001b[0m, in \u001b[0;36mMeraRidgeRegressorwithGradientDescent.predict\u001b[1;34m(self, X_test)\u001b[0m\n\u001b[0;32m     24\u001b[0m \u001b[38;5;28;01mdef\u001b[39;00m \u001b[38;5;21mpredict\u001b[39m(\u001b[38;5;28mself\u001b[39m,X_test):\n\u001b[1;32m---> 25\u001b[0m     \u001b[38;5;28;01mreturn\u001b[39;00m \u001b[43mnp\u001b[49m\u001b[38;5;241;43m.\u001b[39;49m\u001b[43mdot\u001b[49m\u001b[43m(\u001b[49m\u001b[38;5;28;43mself\u001b[39;49m\u001b[38;5;241;43m.\u001b[39;49m\u001b[43mcoeff\u001b[49m\u001b[43m \u001b[49m\u001b[43m,\u001b[49m\u001b[43m \u001b[49m\u001b[43mX_test\u001b[49m\u001b[43m)\u001b[49m \u001b[38;5;241m+\u001b[39m \u001b[38;5;28mself\u001b[39m\u001b[38;5;241m.\u001b[39mintercept\n",
      "\u001b[1;31mValueError\u001b[0m: shapes (10,) and (89,10) not aligned: 10 (dim 0) != 89 (dim 0)"
     ]
    }
   ],
   "source": [
    "rgdGradient = MeraRidgeRegressorwithGradientDescent(learning_rate=0.005,epochs=500,alpha=0.001)\n",
    "rgdGradient.train(X_train,y_train)\n",
    "\n",
    "r2_ridgeGradient = r2_score(y_test,rgdGradient.predict(X_test))\n",
    "print(\"R2 Score: \",r2_ridgeGradient)\n",
    "print(\"Coefficient: \",rgdGradient.coeff)\n",
    "print(\"Intercept: \",rgdGradient.intercept)"
   ]
  },
  {
   "cell_type": "code",
   "execution_count": null,
   "metadata": {},
   "outputs": [],
   "source": []
  }
 ],
 "metadata": {
  "kernelspec": {
   "display_name": "Python 3",
   "language": "python",
   "name": "python3"
  },
  "language_info": {
   "codemirror_mode": {
    "name": "ipython",
    "version": 3
   },
   "file_extension": ".py",
   "mimetype": "text/x-python",
   "name": "python",
   "nbconvert_exporter": "python",
   "pygments_lexer": "ipython3",
   "version": "3.12.1"
  }
 },
 "nbformat": 4,
 "nbformat_minor": 2
}
